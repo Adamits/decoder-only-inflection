{
 "cells": [
  {
   "cell_type": "code",
   "execution_count": 54,
   "metadata": {},
   "outputs": [
    {
     "data": {
      "text/html": [
       "<div>\n",
       "<style scoped>\n",
       "    .dataframe tbody tr th:only-of-type {\n",
       "        vertical-align: middle;\n",
       "    }\n",
       "\n",
       "    .dataframe tbody tr th {\n",
       "        vertical-align: top;\n",
       "    }\n",
       "\n",
       "    .dataframe thead th {\n",
       "        text-align: right;\n",
       "    }\n",
       "</style>\n",
       "<table border=\"1\" class=\"dataframe\">\n",
       "  <thead>\n",
       "    <tr style=\"text-align: right;\">\n",
       "      <th></th>\n",
       "      <th>train_freq</th>\n",
       "      <th>dev_sample_counts</th>\n",
       "      <th>dev_sample_error_counts</th>\n",
       "      <th>error_rate</th>\n",
       "    </tr>\n",
       "  </thead>\n",
       "  <tbody>\n",
       "    <tr>\n",
       "      <th>ach</th>\n",
       "      <td>134</td>\n",
       "      <td>45</td>\n",
       "      <td>40</td>\n",
       "      <td>0.888889</td>\n",
       "    </tr>\n",
       "    <tr>\n",
       "      <th>Aa</th>\n",
       "      <td>18</td>\n",
       "      <td>0</td>\n",
       "      <td>0</td>\n",
       "      <td>-1.000000</td>\n",
       "    </tr>\n",
       "    <tr>\n",
       "      <th>a m</th>\n",
       "      <td>18</td>\n",
       "      <td>0</td>\n",
       "      <td>0</td>\n",
       "      <td>-1.000000</td>\n",
       "    </tr>\n",
       "    <tr>\n",
       "      <th>che</th>\n",
       "      <td>654</td>\n",
       "      <td>25</td>\n",
       "      <td>20</td>\n",
       "      <td>0.800000</td>\n",
       "    </tr>\n",
       "    <tr>\n",
       "      <th>hen</th>\n",
       "      <td>631</td>\n",
       "      <td>21</td>\n",
       "      <td>21</td>\n",
       "      <td>1.000000</td>\n",
       "    </tr>\n",
       "  </tbody>\n",
       "</table>\n",
       "</div>"
      ],
      "text/plain": [
       "     train_freq  dev_sample_counts  dev_sample_error_counts  error_rate\n",
       "ach         134                 45                       40    0.888889\n",
       "Aa           18                  0                        0   -1.000000\n",
       "a m          18                  0                        0   -1.000000\n",
       "che         654                 25                       20    0.800000\n",
       "hen         631                 21                       21    1.000000"
      ]
     },
     "execution_count": 54,
     "metadata": {},
     "output_type": "execute_result"
    }
   ],
   "source": [
    "import pandas as pd\n",
    "from collections import Counter\n",
    "    \n",
    "\n",
    "def get_trigrams(w):\n",
    "    return [\"\".join(t) for t in zip(w[:-2], w[1:-1], w[2:])]\n",
    "\n",
    "def get_bigrams(w):\n",
    "    return [\"\".join(t) for t in zip(w[:-1], w[1])]\n",
    "\n",
    "def get_unigrams(w):\n",
    "    return list(w)\n",
    "\n",
    "\n",
    "def get_train_ngram_freqs(train_fn, n=3):\n",
    "    freqs = Counter()\n",
    "    with open(train_fn, \"r\") as f:\n",
    "        for line in f:\n",
    "            lem, msd, form = line.rstrip().split(\"\\t\")\n",
    "            tris = set(get_trigrams(lem))\n",
    "            tris = tris.union(set(get_trigrams(form)))\n",
    "            freqs += Counter(tris)\n",
    "\n",
    "    return freqs\n",
    "\n",
    "\n",
    "def get_trigram_freq_by_error(train_tri_freqs, pred_fn):\n",
    "    \"\"\"Counts number of dev examples containing a trigram, and number of\n",
    "    incorrect examples containing that trigram\"\"\"\n",
    "    dev_sample_counts = Counter()\n",
    "    dev_sample_error_counts = Counter()\n",
    "    with open(pred_fn, \"r\") as f:\n",
    "        for line in f:\n",
    "            lem, msd, form, pred = line.rstrip().split(\"\\t\")\n",
    "            trigrams = set(get_trigrams(lem))\n",
    "            trigrams = trigrams.union(set(get_trigrams(form)))\n",
    "            for t in trigrams:\n",
    "                dev_sample_counts[t] += 1\n",
    "                if form != pred:\n",
    "                    dev_sample_error_counts[t] += 1\n",
    "\n",
    "    return {t: {\n",
    "        \"train_freq\": train_tri_freqs[t],\n",
    "        \"dev_sample_counts\": dev_sample_counts[t],\n",
    "        \"dev_sample_error_counts\": dev_sample_error_counts[t],\n",
    "    } for t in list(train_tri_freqs.keys()) + list(dev_sample_counts.keys())}\n",
    "\n",
    "\n",
    "\n",
    "train_fn = \"../../yoyodyne/data/sig-2023/deu.trn\"\n",
    "pred_fn = \"../../yoyodyne/2023_eval/deu_dev_postproc_dec_side_by_side.preds\"\n",
    "tri_train_freqs = get_train_ngram_freqs(train_fn, n=3)\n",
    "all = get_trigram_freq_by_error(tri_train_freqs, pred_fn)\n",
    "df = pd.DataFrame(all).T\n",
    "df[\"error_rate\"] = df[\"dev_sample_error_counts\"] / df[\"dev_sample_counts\"]\n",
    "df = df.fillna(-1)\n",
    "df.head()"
   ]
  },
  {
   "cell_type": "code",
   "execution_count": 35,
   "metadata": {},
   "outputs": [
    {
     "data": {
      "text/plain": [
       "<AxesSubplot:>"
      ]
     },
     "execution_count": 35,
     "metadata": {},
     "output_type": "execute_result"
    },
    {
     "data": {
      "image/png": "[encoded data removed]",
      "text/plain": [
       "<Figure size 432x288 with 1 Axes>"
      ]
     },
     "metadata": {
      "needs_background": "light"
     },
     "output_type": "display_data"
    }
   ],
   "source": [
    "import seaborn as sns\n",
    "\n",
    "sns.lineplot(df.sort_values(\"train_freq\"))"
   ]
  },
  {
   "cell_type": "code",
   "execution_count": 36,
   "metadata": {},
   "outputs": [
    {
     "data": {
      "text/html": [
       "<div>\n",
       "<style scoped>\n",
       "    .dataframe tbody tr th:only-of-type {\n",
       "        vertical-align: middle;\n",
       "    }\n",
       "\n",
       "    .dataframe tbody tr th {\n",
       "        vertical-align: top;\n",
       "    }\n",
       "\n",
       "    .dataframe thead th {\n",
       "        text-align: right;\n",
       "    }\n",
       "</style>\n",
       "<table border=\"1\" class=\"dataframe\">\n",
       "  <thead>\n",
       "    <tr style=\"text-align: right;\">\n",
       "      <th></th>\n",
       "      <th>train_freq</th>\n",
       "      <th>dev_sample_counts</th>\n",
       "      <th>dev_sample_error_counts</th>\n",
       "      <th>error_rate</th>\n",
       "    </tr>\n",
       "  </thead>\n",
       "  <tbody>\n",
       "    <tr>\n",
       "      <th>ach</th>\n",
       "      <td>134</td>\n",
       "      <td>45</td>\n",
       "      <td>40</td>\n",
       "      <td>0.888889</td>\n",
       "    </tr>\n",
       "    <tr>\n",
       "      <th>che</th>\n",
       "      <td>654</td>\n",
       "      <td>25</td>\n",
       "      <td>20</td>\n",
       "      <td>0.800000</td>\n",
       "    </tr>\n",
       "    <tr>\n",
       "      <th>hen</th>\n",
       "      <td>631</td>\n",
       "      <td>21</td>\n",
       "      <td>21</td>\n",
       "      <td>1.000000</td>\n",
       "    </tr>\n",
       "    <tr>\n",
       "      <th>mac</th>\n",
       "      <td>35</td>\n",
       "      <td>8</td>\n",
       "      <td>8</td>\n",
       "      <td>1.000000</td>\n",
       "    </tr>\n",
       "    <tr>\n",
       "      <th>end</th>\n",
       "      <td>293</td>\n",
       "      <td>32</td>\n",
       "      <td>29</td>\n",
       "      <td>0.906250</td>\n",
       "    </tr>\n",
       "  </tbody>\n",
       "</table>\n",
       "</div>"
      ],
      "text/plain": [
       "     train_freq  dev_sample_counts  dev_sample_error_counts  error_rate\n",
       "ach         134                 45                       40    0.888889\n",
       "che         654                 25                       20    0.800000\n",
       "hen         631                 21                       21    1.000000\n",
       "mac          35                  8                        8    1.000000\n",
       "end         293                 32                       29    0.906250"
      ]
     },
     "execution_count": 36,
     "metadata": {},
     "output_type": "execute_result"
    }
   ],
   "source": [
    "df = df.loc[df[\"error_rate\"] > -1]\n",
    "df.head()"
   ]
  },
  {
   "cell_type": "code",
   "execution_count": 44,
   "metadata": {},
   "outputs": [
    {
     "data": {
      "text/plain": [
       "-0.1877716952906819"
      ]
     },
     "execution_count": 44,
     "metadata": {},
     "output_type": "execute_result"
    }
   ],
   "source": [
    "df[\"train_freq\"].corr(df[\"error_rate\"], method=\"spearman\")"
   ]
  },
  {
   "cell_type": "code",
   "execution_count": 45,
   "metadata": {},
   "outputs": [
    {
     "data": {
      "text/plain": [
       "0.8918973989042441"
      ]
     },
     "execution_count": 45,
     "metadata": {},
     "output_type": "execute_result"
    }
   ],
   "source": [
    "df[\"train_freq\"].corr(df[\"dev_sample_counts\"])"
   ]
  },
  {
   "cell_type": "code",
   "execution_count": 46,
   "metadata": {},
   "outputs": [
    {
     "data": {
      "text/plain": [
       "<AxesSubplot:xlabel='train_freq', ylabel='Count'>"
      ]
     },
     "execution_count": 46,
     "metadata": {},
     "output_type": "execute_result"
    },
    {
     "data": {
      "image/png": "[encoded data removed]",
      "text/plain": [
       "<Figure size 432x288 with 1 Axes>"
      ]
     },
     "metadata": {
      "needs_background": "light"
     },
     "output_type": "display_data"
    }
   ],
   "source": [
    "sns.histplot(data=df.loc[df[\"train_freq\"] < 1000], x=\"train_freq\")"
   ]
  },
  {
   "cell_type": "code",
   "execution_count": 47,
   "metadata": {},
   "outputs": [
    {
     "data": {
      "text/plain": [
       "<AxesSubplot:xlabel='error_rate', ylabel='Count'>"
      ]
     },
     "execution_count": 47,
     "metadata": {},
     "output_type": "execute_result"
    },
    {
     "data": {
      "image/png": "[encoded data removed]",
      "text/plain": [
       "<Figure size 432x288 with 1 Axes>"
      ]
     },
     "metadata": {
      "needs_background": "light"
     },
     "output_type": "display_data"
    }
   ],
   "source": [
    "sns.histplot(data=df, x=\"error_rate\")"
   ]
  },
  {
   "cell_type": "code",
   "execution_count": 48,
   "metadata": {},
   "outputs": [
    {
     "data": {
      "text/plain": [
       "<AxesSubplot:xlabel='train_freq', ylabel='error_rate'>"
      ]
     },
     "execution_count": 48,
     "metadata": {},
     "output_type": "execute_result"
    },
    {
     "data": {
      "image/png": "[encoded data removed]",
      "text/plain": [
       "<Figure size 432x288 with 1 Axes>"
      ]
     },
     "metadata": {
      "needs_background": "light"
     },
     "output_type": "display_data"
    }
   ],
   "source": [
    "sns.scatterplot(data=df, x=\"train_freq\", y=\"error_rate\", hue=\"dev_sample_counts\")"
   ]
  },
  {
   "cell_type": "code",
   "execution_count": 50,
   "metadata": {},
   "outputs": [
    {
     "data": {
      "text/plain": [
       "<AxesSubplot:xlabel='train_freq', ylabel='error_rate'>"
      ]
     },
     "execution_count": 50,
     "metadata": {},
     "output_type": "execute_result"
    },
    {
     "data": {
      "image/png": "[encoded data removed]",
      "text/plain": [
       "<Figure size 432x288 with 1 Axes>"
      ]
     },
     "metadata": {
      "needs_background": "light"
     },
     "output_type": "display_data"
    }
   ],
   "source": [
    "sns.scatterplot(data=df.loc[df[\"train_freq\"] < 400], x=\"train_freq\", y=\"error_rate\", hue=\"dev_sample_counts\")"
   ]
  },
  {
   "cell_type": "code",
   "execution_count": 57,
   "metadata": {},
   "outputs": [
    {
     "name": "stdout",
     "output_type": "stream",
     "text": [
      "['Mac']\n",
      "Macher N;ACC(SG) Macher Macher\n",
      "['Mac']\n",
      "Macher N;DAT(PL) Machern Machern\n",
      "['Mac']\n",
      "Macher N;DAT(SG) Macher Macher\n",
      "['Mac']\n",
      "Macher N;GEN(SG) Machers Machers\n",
      "['Mac']\n",
      "Macher N;NOM(SG) Macher Macher\n",
      "['Sna']\n",
      "Snack N;ACC(SG) Snack Snack\n",
      "['Sna']\n",
      "Snack N;DAT(SG) Snack Snack\n",
      "['Sna']\n",
      "Snack N;NOM(SG) Snack Snack\n",
      "['lse']\n",
      "Wels N;ACC(PL) Welse Welse\n",
      "['lse']\n",
      "Wels N;GEN(PL) Welse Welse\n",
      "['lse']\n",
      "Wels N;GEN(SG) Welses Welses\n",
      "['lse']\n",
      "Wels N;NOM(PL) Welse Welse\n",
      "['ß a', 'eß ']\n",
      "ausschließen V;IMP;NOM(2,SG) schließ aus schließ aus\n",
      "['äft', 'fti']\n",
      "beschäftigen V;IMP;NOM(2,PL) beschäftigt beschäftigt\n",
      "['äft', 'fti']\n",
      "beschäftigen V;IND;PRS;NOM(2,SG) beschäftigst beschäftigst\n",
      "['äft', 'fti']\n",
      "beschäftigen V;IND;PRS;NOM(3,SG) beschäftigt beschäftigt\n",
      "['äft', 'fti']\n",
      "beschäftigen V;IND;PST;NOM(1,PL) beschäftigten beschäftigten\n",
      "['äft', 'fti']\n",
      "beschäftigen V;IND;PST;NOM(1,SG) beschäftigte beschäftigte\n",
      "['äft', 'fti']\n",
      "beschäftigen V;IND;PST;NOM(2,SG) beschäftigtest beschäftigtest\n",
      "['äft', 'fti']\n",
      "beschäftigen V;NFIN beschäftigen beschäftigen\n",
      "['äft', 'fti']\n",
      "beschäftigen V;SBJV;PRS;NOM(1,PL) beschäftigen beschäftigen\n",
      "['äft', 'fti']\n",
      "beschäftigen V;SBJV;PRS;NOM(2,PL) beschäftiget beschäftiget\n",
      "['äft', 'fti']\n",
      "beschäftigen V;SBJV;PRS;NOM(3,SG) beschäftige beschäftige\n",
      "['äft', 'fti']\n",
      "beschäftigen V;SBJV;PST;NOM(3,PL) beschäftigten beschäftigten\n",
      "['äft', 'fti']\n",
      "beschäftigen V;SBJV;PST;NOM(3,SG) beschäftigte beschäftigte\n",
      "['rän']\n",
      "kränken V.PTCP;PRS kränkend kränkend\n",
      "['rän']\n",
      "kränken V;IMP;NOM(2,SG) kränk kränk\n",
      "['rän']\n",
      "kränken V;IND;PRS;NOM(1,SG) kränke kränke\n",
      "['rän']\n",
      "kränken V;NFIN kränken kränken\n",
      "['rän']\n",
      "kränken V;SBJV;PRS;NOM(2,PL) kränket kränket\n",
      "['rän']\n",
      "kränken V;SBJV;PST;NOM(1,PL) kränkten kränkten\n",
      "['rän']\n",
      "kränken V;SBJV;PST;NOM(1,SG) kränkte kränkte\n",
      "['rän']\n",
      "kränken V;SBJV;PST;NOM(2,SG) kränktest kränktest\n",
      "['rda', 'dan']\n",
      "verdanken V.PTCP;PST verdankt verdankt\n",
      "['rda', 'dan']\n",
      "verdanken V;IND;PRS;NOM(1,SG) verdanke verdanke\n",
      "['rda', 'dan']\n",
      "verdanken V;IND;PRS;NOM(2,SG) verdankst verdankst\n",
      "['rda', 'dan']\n",
      "verdanken V;IND;PST;NOM(1,SG) verdankte verdankte\n",
      "['rda', 'dan']\n",
      "verdanken V;IND;PST;NOM(2,PL) verdanktet verdanktet\n",
      "['dan', 'rda']\n",
      "verdanken V;IND;PST;NOM(2,SG) verdanktest verdanktest\n",
      "['rda', 'dan']\n",
      "verdanken V;SBJV;PRS;NOM(2,SG) verdankest verdankest\n",
      "['rda', 'dan']\n",
      "verdanken V;SBJV;PST;NOM(2,PL) verdanktet verdanktet\n",
      "['dan', 'rda']\n",
      "verdanken V;SBJV;PST;NOM(2,SG) verdanktest verdanktest\n",
      "['rzi']\n",
      "verzieren V;IND;PRS;NOM(3,PL) verzieren verzieren\n",
      "['rzi']\n",
      "verzieren V;IND;PRS;NOM(3,SG) verziert verziert\n",
      "['rzi']\n",
      "verzieren V;IND;PST;NOM(1,SG) verzierte verzierte\n",
      "['rzi']\n",
      "verzieren V;IND;PST;NOM(3,SG) verzierte verzierte\n",
      "['rzi']\n",
      "verzieren V;SBJV;PRS;NOM(1,PL) verzieren verzieren\n",
      "['rzi']\n",
      "verzieren V;SBJV;PRS;NOM(3,PL) verzieren verzieren\n",
      "['rzi']\n",
      "verzieren V;SBJV;PST;NOM(1,SG) verzierte verzierte\n",
      "['rzi']\n",
      "verzieren V;SBJV;PST;NOM(3,SG) verzierte verzierte\n",
      "['zap']\n",
      "zappen V.PTCP;PRS zappend zappend\n",
      "['zap']\n",
      "zappen V;IMP;NOM(2,PL) zappt zappt\n",
      "['zap']\n",
      "zappen V;IND;PRS;NOM(1,PL) zappen zappen\n",
      "['zap']\n",
      "zappen V;IND;PRS;NOM(2,PL) zappt zappt\n",
      "['zap']\n",
      "zappen V;IND;PST;NOM(2,SG) zapptest zapptest\n",
      "['zap']\n",
      "zappen V;NFIN zappen zappen\n",
      "['zap']\n",
      "zappen V;SBJV;PRS;NOM(1,SG) zappe zappe\n",
      "['zap']\n",
      "zappen V;SBJV;PRS;NOM(2,SG) zappest zappest\n",
      "['zap']\n",
      "zappen V;SBJV;PRS;NOM(3,SG) zappe zappe\n",
      "['zap']\n",
      "zappen V;SBJV;PST;NOM(1,PL) zappten zappten\n",
      "['zap']\n",
      "zappen V;SBJV;PST;NOM(2,SG) zapptest zapptest\n",
      "['zap']\n",
      "zappen V;SBJV;PST;NOM(3,PL) zappten zappten\n"
     ]
    }
   ],
   "source": [
    "with open(pred_fn, \"r\") as f:\n",
    "    for line in f:\n",
    "        lem, msd, form, pred = line.rstrip().split(\"\\t\")\n",
    "        trigrams = set(get_trigrams(lem))\n",
    "        trigrams = trigrams.union(set(get_trigrams(form)))\n",
    "        if any(tri_train_freqs[t] == 0 for t in trigrams) and form == pred:\n",
    "            print([t for t in trigrams if tri_train_freqs[t] == 0])\n",
    "            print(lem, msd, form, pred)"
   ]
  },
  {
   "cell_type": "markdown",
   "metadata": {},
   "source": [
    "# What are the training n-gram distributions of the samples our model gets right v.s. wrong?\n",
    "\n",
    "- Maybe we get an error rate for every ngram: what % of samples that it appears in do we getwrong?\n",
    "- Do seperately for lemma and gold output form"
   ]
  },
  {
   "cell_type": "code",
   "execution_count": null,
   "metadata": {},
   "outputs": [],
   "source": [
    "lemmas = {}\n",
    "with open(pred_fn, \"r\") as f:\n",
    "    for line in f:\n",
    "        lem, msd, form, pred = line.rstrip().split(\"\\t\")\n",
    "        trigrams = set(get_trigrams(lem))\n",
    "        for t in trigrams:\n",
    "            dev_sample_counts[t] += 1\n",
    "            if form != pred:\n",
    "                dev_sample_error_counts[t] += 1"
   ]
  }
 ],
 "metadata": {
  "kernelspec": {
   "display_name": "nlp",
   "language": "python",
   "name": "nlp"
  },
  "language_info": {
   "codemirror_mode": {
    "name": "ipython",
    "version": 3
   },
   "file_extension": ".py",
   "mimetype": "text/x-python",
   "name": "python",
   "nbconvert_exporter": "python",
   "pygments_lexer": "ipython3",
   "version": "3.9.1"
  }
 },
 "nbformat": 4,
 "nbformat_minor": 4
}
