{
 "cells": [
  {
   "cell_type": "code",
   "execution_count": 1,
   "metadata": {},
   "outputs": [
    {
     "name": "stdout",
     "output_type": "stream",
     "text": [
      "52\n"
     ]
    },
    {
     "data": {
      "text/plain": [
       "[('albanian', 1)]"
      ]
     },
     "execution_count": 1,
     "metadata": {},
     "output_type": "execute_result"
    }
   ],
   "source": [
    "import pandas as pd\n",
    "from collections import Counter\n",
    "\n",
    "ed_df = pd.read_csv(\"data/encoder_decoder.csv\")\n",
    "ed_df[\"params\"] = \"7.4M\"\n",
    "ed_df[\"arch_name\"] = \"encoder-decoder\"\n",
    "print(len(set(ed_df[\"Name\"])))\n",
    "Counter(ed_df[\"Name\"]).most_common(1)"
   ]
  },
  {
   "cell_type": "code",
   "execution_count": 2,
   "metadata": {},
   "outputs": [
    {
     "name": "stdout",
     "output_type": "stream",
     "text": [
      "52\n"
     ]
    },
    {
     "data": {
      "text/plain": [
       "[('georgian', 1)]"
      ]
     },
     "execution_count": 2,
     "metadata": {},
     "output_type": "execute_result"
    }
   ],
   "source": [
    "d48_df = pd.read_csv(\"data/decoder_only_4layers_8heads.csv\")\n",
    "d48_df[\"params\"] = \"3.2M\"\n",
    "d48_df[\"encoder_layers\"] = 0\n",
    "d48_df[\"arch_name\"] = \"decoder-only-4layer-8head\"\n",
    "print(len(set(d48_df[\"Name\"])))\n",
    "Counter(d48_df[\"Name\"]).most_common(1)"
   ]
  },
  {
   "cell_type": "code",
   "execution_count": 3,
   "metadata": {},
   "outputs": [
    {
     "name": "stdout",
     "output_type": "stream",
     "text": [
      "52\n"
     ]
    },
    {
     "data": {
      "text/plain": [
       "[('welsh', 1)]"
      ]
     },
     "execution_count": 3,
     "metadata": {},
     "output_type": "execute_result"
    }
   ],
   "source": [
    "d84_df = pd.read_csv(\"data/decoder_only_8layers_4heads.csv\")\n",
    "d84_df[\"params\"] = \"6.3M\"\n",
    "d84_df[\"encoder_layers\"] = 0\n",
    "d84_df[\"arch_name\"] = \"decoder-only-8layer-4head\"\n",
    "print(len(set(d84_df[\"Name\"])))\n",
    "Counter(d84_df[\"Name\"]).most_common(1)"
   ]
  },
  {
   "cell_type": "code",
   "execution_count": 4,
   "metadata": {},
   "outputs": [
    {
     "name": "stdout",
     "output_type": "stream",
     "text": [
      "52\n"
     ]
    },
    {
     "data": {
      "text/plain": [
       "[('albanian', 1)]"
      ]
     },
     "execution_count": 4,
     "metadata": {},
     "output_type": "execute_result"
    }
   ],
   "source": [
    "d44_df = pd.read_csv(\"data/decoder_only_4layers_4heads.csv\")\n",
    "d44_df[\"params\"] = \"3.2M\"\n",
    "d44_df[\"encoder_layers\"] = 0\n",
    "d44_df[\"arch_name\"] = \"decoder-only-4layer-4head\"\n",
    "print(len(set(d44_df[\"Name\"])))\n",
    "Counter(d44_df[\"Name\"]).most_common(1)"
   ]
  },
  {
   "cell_type": "code",
   "execution_count": 5,
   "metadata": {},
   "outputs": [
    {
     "name": "stdout",
     "output_type": "stream",
     "text": [
      "52\n"
     ]
    },
    {
     "data": {
      "text/plain": [
       "[('albanian', 1)]"
      ]
     },
     "execution_count": 5,
     "metadata": {},
     "output_type": "execute_result"
    }
   ],
   "source": [
    "d88_df = pd.read_csv(\"data/decoder_only_8layers_8heads.csv\")\n",
    "d88_df[\"params\"] = \"6.4M\"\n",
    "d88_df[\"encoder_layers\"] = 0\n",
    "d88_df[\"arch_name\"] = \"decoder-only-8layer-8head\"\n",
    "print(len(set(d88_df[\"Name\"])))\n",
    "Counter(d88_df[\"Name\"]).most_common(1)"
   ]
  },
  {
   "cell_type": "code",
   "execution_count": 6,
   "metadata": {},
   "outputs": [
    {
     "data": {
      "text/html": [
       "<div>\n",
       "<style scoped>\n",
       "    .dataframe tbody tr th:only-of-type {\n",
       "        vertical-align: middle;\n",
       "    }\n",
       "\n",
       "    .dataframe tbody tr th {\n",
       "        vertical-align: top;\n",
       "    }\n",
       "\n",
       "    .dataframe thead th {\n",
       "        text-align: right;\n",
       "    }\n",
       "</style>\n",
       "<table border=\"1\" class=\"dataframe\">\n",
       "  <thead>\n",
       "    <tr style=\"text-align: right;\">\n",
       "      <th></th>\n",
       "      <th></th>\n",
       "      <th>val_accuracy.max</th>\n",
       "      <th>source_attention_heads</th>\n",
       "      <th>decoder_layers</th>\n",
       "      <th>encoder_layers</th>\n",
       "    </tr>\n",
       "    <tr>\n",
       "      <th>arch_name</th>\n",
       "      <th>params</th>\n",
       "      <th></th>\n",
       "      <th></th>\n",
       "      <th></th>\n",
       "      <th></th>\n",
       "    </tr>\n",
       "  </thead>\n",
       "  <tbody>\n",
       "    <tr>\n",
       "      <th>decoder-only-4layer-4head</th>\n",
       "      <th>3.2M</th>\n",
       "      <td>0.933923</td>\n",
       "      <td>4.0</td>\n",
       "      <td>4.0</td>\n",
       "      <td>0.0</td>\n",
       "    </tr>\n",
       "    <tr>\n",
       "      <th>decoder-only-4layer-8head</th>\n",
       "      <th>3.2M</th>\n",
       "      <td>0.942096</td>\n",
       "      <td>8.0</td>\n",
       "      <td>4.0</td>\n",
       "      <td>0.0</td>\n",
       "    </tr>\n",
       "    <tr>\n",
       "      <th>decoder-only-8layer-4head</th>\n",
       "      <th>6.3M</th>\n",
       "      <td>0.951462</td>\n",
       "      <td>4.0</td>\n",
       "      <td>8.0</td>\n",
       "      <td>0.0</td>\n",
       "    </tr>\n",
       "    <tr>\n",
       "      <th>decoder-only-8layer-8head</th>\n",
       "      <th>6.4M</th>\n",
       "      <td>0.951558</td>\n",
       "      <td>8.0</td>\n",
       "      <td>8.0</td>\n",
       "      <td>0.0</td>\n",
       "    </tr>\n",
       "    <tr>\n",
       "      <th>encoder-decoder</th>\n",
       "      <th>7.4M</th>\n",
       "      <td>0.961250</td>\n",
       "      <td>4.0</td>\n",
       "      <td>4.0</td>\n",
       "      <td>4.0</td>\n",
       "    </tr>\n",
       "  </tbody>\n",
       "</table>\n",
       "</div>"
      ],
      "text/plain": [
       "                                  val_accuracy.max  source_attention_heads  \\\n",
       "arch_name                 params                                             \n",
       "decoder-only-4layer-4head 3.2M            0.933923                     4.0   \n",
       "decoder-only-4layer-8head 3.2M            0.942096                     8.0   \n",
       "decoder-only-8layer-4head 6.3M            0.951462                     4.0   \n",
       "decoder-only-8layer-8head 6.4M            0.951558                     8.0   \n",
       "encoder-decoder           7.4M            0.961250                     4.0   \n",
       "\n",
       "                                  decoder_layers  encoder_layers  \n",
       "arch_name                 params                                  \n",
       "decoder-only-4layer-4head 3.2M               4.0             0.0  \n",
       "decoder-only-4layer-8head 3.2M               4.0             0.0  \n",
       "decoder-only-8layer-4head 6.3M               8.0             0.0  \n",
       "decoder-only-8layer-8head 6.4M               8.0             0.0  \n",
       "encoder-decoder           7.4M               4.0             4.0  "
      ]
     },
     "execution_count": 6,
     "metadata": {},
     "output_type": "execute_result"
    }
   ],
   "source": [
    "all_df = pd.concat([ed_df, d48_df, d84_df, d44_df, d88_df])\n",
    "\n",
    "all_df.groupby([\"arch_name\", \"params\"]).mean()[[\n",
    "    \"val_accuracy.max\",\n",
    "    \"source_attention_heads\",\n",
    "    \"decoder_layers\",\n",
    "    \"encoder_layers\",\n",
    "]].sort_values(\"val_accuracy.max\")"
   ]
  },
  {
   "cell_type": "code",
   "execution_count": 7,
   "metadata": {},
   "outputs": [
    {
     "name": "stdout",
     "output_type": "stream",
     "text": [
      "Counter({'encoder-decoder': 38, 'decoder-only-8layer-4head': 14, 'decoder-only-8layer-8head': 9, 'decoder-only-4layer-8head': 7, 'decoder-only-4layer-4head': 6})\n"
     ]
    }
   ],
   "source": [
    "max_arches = all_df.sort_values(\"val_accuracy.max\", ascending=False).drop_duplicates([\"Name\"]).sort_values(\"Name\")[\n",
    "    [\"Name\", \"arch_name\", \"val_accuracy.max\"]\n",
    "]\n",
    "maxes = max_arches[[\"Name\", \"val_accuracy.max\"]]\n",
    "bests = []\n",
    "for name in sorted(set(maxes[\"Name\"])):\n",
    "    best = maxes.loc[maxes[\"Name\"] == name][\"val_accuracy.max\"].iloc[0]\n",
    "    name_df = all_df.loc[all_df[\"Name\"] == name]\n",
    "    for idx, row in name_df.iterrows():\n",
    "        row_acc = row[\"val_accuracy.max\"]\n",
    "        if row_acc == best:\n",
    "            bests.append(row[\"arch_name\"])\n",
    "            \n",
    "print(Counter(bests))"
   ]
  },
  {
   "cell_type": "code",
   "execution_count": 8,
   "metadata": {},
   "outputs": [
    {
     "name": "stdout",
     "output_type": "stream",
     "text": [
      "                                             val_accuracy.max\n",
      "Name              arch_name                                  \n",
      "albanian          decoder-only-4layer-4head             0.952\n",
      "                  decoder-only-4layer-8head             0.944\n",
      "                  decoder-only-8layer-4head             0.964\n",
      "                  decoder-only-8layer-8head             0.972\n",
      "                  encoder-decoder                       0.997\n",
      "arabic            decoder-only-4layer-4head             0.966\n",
      "                  decoder-only-4layer-8head             0.970\n",
      "                  decoder-only-8layer-4head             0.969\n",
      "                  decoder-only-8layer-8head             0.971\n",
      "                  encoder-decoder                       0.972\n",
      "armenian          decoder-only-4layer-4head             0.969\n",
      "                  decoder-only-4layer-8head             0.969\n",
      "                  decoder-only-8layer-4head             0.970\n",
      "                  decoder-only-8layer-8head             0.974\n",
      "                  encoder-decoder                       0.981\n",
      "basque            decoder-only-4layer-4head             0.950\n",
      "                  decoder-only-4layer-8head             0.980\n",
      "                  decoder-only-8layer-4head             0.990\n",
      "                  decoder-only-8layer-8head             0.990\n",
      "                  encoder-decoder                       0.990\n",
      "bengali           decoder-only-4layer-4head             0.990\n",
      "                  decoder-only-4layer-8head             0.990\n",
      "                  decoder-only-8layer-4head             0.990\n",
      "                  decoder-only-8layer-8head             0.990\n",
      "                  encoder-decoder                       0.990\n",
      "bulgarian         decoder-only-4layer-4head             0.983\n",
      "                  decoder-only-4layer-8head             0.985\n",
      "                  decoder-only-8layer-4head             0.980\n",
      "                  decoder-only-8layer-8head             0.973\n",
      "                  encoder-decoder                       0.983\n",
      "catalan           decoder-only-4layer-4head             0.985\n",
      "                  decoder-only-4layer-8head             0.988\n",
      "                  decoder-only-8layer-4head             0.987\n",
      "                  decoder-only-8layer-8head             0.989\n",
      "                  encoder-decoder                       0.988\n",
      "czech             decoder-only-4layer-4head             0.926\n",
      "                  decoder-only-4layer-8head             0.929\n",
      "                  decoder-only-8layer-4head             0.935\n",
      "                  decoder-only-8layer-8head             0.942\n",
      "                  encoder-decoder                       0.949\n",
      "danish            decoder-only-4layer-4head             0.955\n",
      "                  decoder-only-4layer-8head             0.958\n",
      "                  decoder-only-8layer-4head             0.962\n",
      "                  decoder-only-8layer-8head             0.963\n",
      "                  encoder-decoder                       0.963\n",
      "dutch             decoder-only-4layer-4head             0.960\n",
      "                  decoder-only-4layer-8head             0.967\n",
      "                  decoder-only-8layer-4head             0.974\n",
      "                  decoder-only-8layer-8head             0.975\n",
      "                  encoder-decoder                       0.984\n",
      "english           decoder-only-4layer-4head             0.959\n",
      "                  decoder-only-4layer-8head             0.960\n",
      "                  decoder-only-8layer-4head             0.963\n",
      "                  decoder-only-8layer-8head             0.964\n",
      "                  encoder-decoder                       0.963\n",
      "estonian          decoder-only-4layer-4head             0.983\n",
      "                  decoder-only-4layer-8head             0.987\n",
      "                  decoder-only-8layer-4head             0.986\n",
      "                  decoder-only-8layer-8head             0.986\n",
      "                  encoder-decoder                       0.996\n",
      "faroese           decoder-only-4layer-4head             0.888\n",
      "                  decoder-only-4layer-8head             0.887\n",
      "                  decoder-only-8layer-4head             0.898\n",
      "                  decoder-only-8layer-8head             0.896\n",
      "                  encoder-decoder                       0.916\n",
      "finnish           decoder-only-4layer-4head             0.964\n",
      "                  decoder-only-4layer-8head             0.963\n",
      "                  decoder-only-8layer-4head             0.964\n",
      "                  decoder-only-8layer-8head             0.962\n",
      "                  encoder-decoder                       0.961\n",
      "french            decoder-only-4layer-4head             0.904\n",
      "                  decoder-only-4layer-8head             0.905\n",
      "                  decoder-only-8layer-4head             0.922\n",
      "                  decoder-only-8layer-8head             0.923\n",
      "                  encoder-decoder                       0.922\n",
      "georgian          decoder-only-4layer-4head             0.990\n",
      "                  decoder-only-4layer-8head             0.990\n",
      "                  decoder-only-8layer-4head             0.992\n",
      "                  decoder-only-8layer-8head             0.994\n",
      "                  encoder-decoder                       0.995\n",
      "german            decoder-only-4layer-4head             0.908\n",
      "                  decoder-only-4layer-8head             0.911\n",
      "                  decoder-only-8layer-4head             0.912\n",
      "                  decoder-only-8layer-8head             0.912\n",
      "                  encoder-decoder                       0.917\n",
      "haida             decoder-only-4layer-4head             0.970\n",
      "                  decoder-only-4layer-8head             0.990\n",
      "                  decoder-only-8layer-4head             0.990\n",
      "                  decoder-only-8layer-8head             0.990\n",
      "                  encoder-decoder                       0.990\n",
      "hebrew            decoder-only-4layer-4head             0.984\n",
      "                  decoder-only-4layer-8head             0.989\n",
      "                  decoder-only-8layer-4head             0.989\n",
      "                  decoder-only-8layer-8head             0.991\n",
      "                  encoder-decoder                       0.993\n",
      "hindi             decoder-only-4layer-4head             1.000\n",
      "                  decoder-only-4layer-8head             1.000\n",
      "                  decoder-only-8layer-4head             0.996\n",
      "                  decoder-only-8layer-8head             0.995\n",
      "                  encoder-decoder                       1.000\n",
      "hungarian         decoder-only-4layer-4head             0.858\n",
      "                  decoder-only-4layer-8head             0.873\n",
      "                  decoder-only-8layer-4head             0.879\n",
      "                  decoder-only-8layer-8head             0.882\n",
      "                  encoder-decoder                       0.874\n",
      "icelandic         decoder-only-4layer-4head             0.918\n",
      "                  decoder-only-4layer-8head             0.923\n",
      "                  decoder-only-8layer-4head             0.921\n",
      "                  decoder-only-8layer-8head             0.927\n",
      "                  encoder-decoder                       0.930\n",
      "irish             decoder-only-4layer-4head             0.939\n",
      "                  decoder-only-4layer-8head             0.937\n",
      "                  decoder-only-8layer-4head             0.938\n",
      "                  decoder-only-8layer-8head             0.938\n",
      "                  encoder-decoder                       0.941\n",
      "italian           decoder-only-4layer-4head             0.981\n",
      "                  decoder-only-4layer-8head             0.978\n",
      "                  decoder-only-8layer-4head             0.984\n",
      "                  decoder-only-8layer-8head             0.981\n",
      "                  encoder-decoder                       0.982\n",
      "khaling           decoder-only-4layer-4head             0.953\n",
      "                  decoder-only-4layer-8head             0.968\n",
      "                  decoder-only-8layer-4head             0.980\n",
      "                  decoder-only-8layer-8head             0.982\n",
      "                  encoder-decoder                       1.000\n",
      "kurmanji          decoder-only-4layer-4head             0.935\n",
      "                  decoder-only-4layer-8head             0.926\n",
      "                  decoder-only-8layer-4head             0.925\n",
      "                  decoder-only-8layer-8head             0.913\n",
      "                  encoder-decoder                       0.935\n",
      "latin             decoder-only-4layer-4head             0.813\n",
      "                  decoder-only-4layer-8head             0.821\n",
      "                  decoder-only-8layer-4head             0.846\n",
      "                  decoder-only-8layer-8head             0.843\n",
      "                  encoder-decoder                       0.851\n",
      "latvian           decoder-only-4layer-4head             0.983\n",
      "                  decoder-only-4layer-8head             0.982\n",
      "                  decoder-only-8layer-4head             0.983\n",
      "                  decoder-only-8layer-8head             0.982\n",
      "                  encoder-decoder                       0.981\n",
      "lithuanian        decoder-only-4layer-4head             0.951\n",
      "                  decoder-only-4layer-8head             0.961\n",
      "                  decoder-only-8layer-4head             0.964\n",
      "                  decoder-only-8layer-8head             0.956\n",
      "                  encoder-decoder                       0.962\n",
      "lower-sorbian     decoder-only-4layer-4head             0.978\n",
      "                  decoder-only-4layer-8head             0.981\n",
      "                  decoder-only-8layer-4head             0.982\n",
      "                  decoder-only-8layer-8head             0.982\n",
      "                  encoder-decoder                       0.987\n",
      "macedonian        decoder-only-4layer-4head             0.970\n",
      "                  decoder-only-4layer-8head             0.970\n",
      "                  decoder-only-8layer-4head             0.971\n",
      "                  decoder-only-8layer-8head             0.966\n",
      "                  encoder-decoder                       0.970\n",
      "navajo            decoder-only-4layer-4head             0.940\n",
      "                  decoder-only-4layer-8head             0.939\n",
      "                  decoder-only-8layer-4head             0.952\n",
      "                  decoder-only-8layer-8head             0.953\n",
      "                  encoder-decoder                       0.959\n",
      "northern-sami     decoder-only-4layer-4head             0.970\n",
      "                  decoder-only-4layer-8head             0.972\n",
      "                  decoder-only-8layer-4head             0.965\n",
      "                  decoder-only-8layer-8head             0.966\n",
      "                  encoder-decoder                       0.981\n",
      "norwegian-bokmal  decoder-only-4layer-4head             0.918\n",
      "                  decoder-only-4layer-8head             0.916\n",
      "                  decoder-only-8layer-4head             0.924\n",
      "                  decoder-only-8layer-8head             0.921\n",
      "                  encoder-decoder                       0.920\n",
      "norwegian-nynorsk decoder-only-4layer-4head             0.932\n",
      "                  decoder-only-4layer-8head             0.937\n",
      "                  decoder-only-8layer-4head             0.954\n",
      "                  decoder-only-8layer-8head             0.946\n",
      "                  encoder-decoder                       0.948\n",
      "persian           decoder-only-4layer-4head             0.997\n",
      "                  decoder-only-4layer-8head             1.000\n",
      "                  decoder-only-8layer-4head             0.998\n",
      "                  decoder-only-8layer-8head             0.999\n",
      "                  encoder-decoder                       1.000\n",
      "polish            decoder-only-4layer-4head             0.927\n",
      "                  decoder-only-4layer-8head             0.930\n",
      "                  decoder-only-8layer-4head             0.927\n",
      "                  decoder-only-8layer-8head             0.927\n",
      "                  encoder-decoder                       0.931\n",
      "portuguese        decoder-only-4layer-4head             0.981\n",
      "                  decoder-only-4layer-8head             0.987\n",
      "                  decoder-only-8layer-4head             0.993\n",
      "                  decoder-only-8layer-8head             0.991\n",
      "                  encoder-decoder                       0.993\n",
      "quechua           decoder-only-4layer-4head             1.000\n",
      "                  decoder-only-4layer-8head             1.000\n",
      "                  decoder-only-8layer-4head             0.999\n",
      "                  decoder-only-8layer-8head             0.998\n",
      "                  encoder-decoder                       1.000\n",
      "romanian          decoder-only-4layer-4head             0.879\n",
      "                  decoder-only-4layer-8head             0.877\n",
      "                  decoder-only-8layer-4head             0.892\n",
      "                  decoder-only-8layer-8head             0.888\n",
      "                  encoder-decoder                       0.898\n",
      "russian           decoder-only-4layer-4head             0.929\n",
      "                  decoder-only-4layer-8head             0.928\n",
      "                  decoder-only-8layer-4head             0.927\n",
      "                  decoder-only-8layer-8head             0.927\n",
      "                  encoder-decoder                       0.935\n",
      "scottish-gaelic   decoder-only-4layer-4head             0.120\n",
      "                  decoder-only-4layer-8head             0.360\n",
      "                  decoder-only-8layer-4head             0.640\n",
      "                  decoder-only-8layer-8head             0.700\n",
      "                  encoder-decoder                       0.900\n",
      "serbo-croatian    decoder-only-4layer-4head             0.925\n",
      "                  decoder-only-4layer-8head             0.930\n",
      "                  decoder-only-8layer-4head             0.935\n",
      "                  decoder-only-8layer-8head             0.929\n",
      "                  encoder-decoder                       0.939\n",
      "slovak            decoder-only-4layer-4head             0.959\n",
      "                  decoder-only-4layer-8head             0.966\n",
      "                  decoder-only-8layer-4head             0.973\n",
      "                  decoder-only-8layer-8head             0.973\n",
      "                  encoder-decoder                       0.972\n",
      "slovene           decoder-only-4layer-4head             0.977\n",
      "                  decoder-only-4layer-8head             0.982\n",
      "                  decoder-only-8layer-4head             0.983\n",
      "                  decoder-only-8layer-8head             0.985\n",
      "                  encoder-decoder                       0.987\n",
      "sorani            decoder-only-4layer-4head             0.902\n",
      "                  decoder-only-4layer-8head             0.907\n",
      "                  decoder-only-8layer-4head             0.903\n",
      "                  decoder-only-8layer-8head             0.898\n",
      "                  encoder-decoder                       0.918\n",
      "spanish           decoder-only-4layer-4head             0.952\n",
      "                  decoder-only-4layer-8head             0.965\n",
      "                  decoder-only-8layer-4head             0.975\n",
      "                  decoder-only-8layer-8head             0.974\n",
      "                  encoder-decoder                       0.975\n",
      "swedish           decoder-only-4layer-4head             0.908\n",
      "                  decoder-only-4layer-8head             0.923\n",
      "                  decoder-only-8layer-4head             0.924\n",
      "                  decoder-only-8layer-8head             0.918\n",
      "                  encoder-decoder                       0.923\n",
      "turkish           decoder-only-4layer-4head             0.983\n",
      "                  decoder-only-4layer-8head             0.980\n",
      "                  decoder-only-8layer-4head             0.979\n",
      "                  decoder-only-8layer-8head             0.973\n",
      "                  encoder-decoder                       0.986\n",
      "ukrainian         decoder-only-4layer-4head             0.936\n",
      "                  decoder-only-4layer-8head             0.920\n",
      "                  decoder-only-8layer-4head             0.948\n",
      "                  decoder-only-8layer-8head             0.943\n",
      "                  encoder-decoder                       0.960\n",
      "urdu              decoder-only-4layer-4head             0.984\n",
      "                  decoder-only-4layer-8head             0.988\n",
      "                  decoder-only-8layer-4head             0.989\n",
      "                  decoder-only-8layer-8head             0.988\n",
      "                  encoder-decoder                       0.997\n",
      "welsh             decoder-only-4layer-4head             0.980\n",
      "                  decoder-only-4layer-8head             1.000\n",
      "                  decoder-only-8layer-4head             0.990\n",
      "                  decoder-only-8layer-8head             0.980\n",
      "                  encoder-decoder                       1.000\n"
     ]
    }
   ],
   "source": [
    "with pd.option_context('display.max_rows', None, 'display.max_columns', None):\n",
    "    print(pd.DataFrame(all_df.groupby([\"Name\", \"arch_name\"])[\"val_accuracy.max\"].max()))"
   ]
  },
  {
   "cell_type": "code",
   "execution_count": 9,
   "metadata": {},
   "outputs": [
    {
     "name": "stdout",
     "output_type": "stream",
     "text": [
      "basque ['encoder-decoder', 'decoder-only-8layer-4head', 'decoder-only-8layer-8head'] 0.9900000095367432\n",
      "bengali ['encoder-decoder', 'decoder-only-4layer-8head', 'decoder-only-8layer-4head', 'decoder-only-4layer-4head', 'decoder-only-8layer-8head'] 0.9900000095367432\n",
      "danish ['encoder-decoder', 'decoder-only-8layer-8head'] 0.9629999995231628\n",
      "finnish ['decoder-only-8layer-4head', 'decoder-only-4layer-4head'] 0.9639999866485596\n",
      "haida ['encoder-decoder', 'decoder-only-4layer-8head', 'decoder-only-8layer-4head', 'decoder-only-8layer-8head'] 0.9900000095367432\n",
      "hindi ['encoder-decoder', 'decoder-only-4layer-8head', 'decoder-only-4layer-4head'] 1.0\n",
      "kurmanji ['encoder-decoder', 'decoder-only-4layer-4head'] 0.9350000023841858\n",
      "latvian ['decoder-only-8layer-4head', 'decoder-only-4layer-4head'] 0.9829999804496764\n",
      "persian ['encoder-decoder', 'decoder-only-4layer-8head'] 1.0\n",
      "portuguese ['encoder-decoder', 'decoder-only-8layer-4head'] 0.9929999709129332\n",
      "quechua ['encoder-decoder', 'decoder-only-4layer-8head', 'decoder-only-4layer-4head'] 1.0\n",
      "slovak ['decoder-only-8layer-4head', 'decoder-only-8layer-8head'] 0.9729999899864196\n",
      "spanish ['encoder-decoder', 'decoder-only-8layer-4head'] 0.975000023841858\n",
      "welsh ['encoder-decoder', 'decoder-only-4layer-8head'] 1.0\n"
     ]
    }
   ],
   "source": [
    "ties = {}\n",
    "\n",
    "for idx, row in all_df.iterrows():\n",
    "    ties.setdefault(row.Name, {})\n",
    "    ties[row.Name].setdefault(row[\"val_accuracy.max\"], []).append(row[\"arch_name\"])\n",
    "    \n",
    "for name, d in ties.items():\n",
    "    for k, v in d.items():\n",
    "        if len(v) > 1 and k == max(d.keys()):\n",
    "            print(name, v, k)"
   ]
  },
  {
   "cell_type": "markdown",
   "metadata": {},
   "source": [
    "# 2023"
   ]
  },
  {
   "cell_type": "code",
   "execution_count": 10,
   "metadata": {},
   "outputs": [
    {
     "name": "stdout",
     "output_type": "stream",
     "text": [
      "27\n"
     ]
    },
    {
     "data": {
      "text/plain": [
       "[('sqi.trn', 1)]"
      ]
     },
     "execution_count": 10,
     "metadata": {},
     "output_type": "execute_result"
    }
   ],
   "source": [
    "import pandas as pd\n",
    "from collections import Counter\n",
    "\n",
    "ed_23_df = pd.read_csv(\"data/2023-encoder-decoder.csv\")\n",
    "ed_23_df[\"params\"] = \"7.4M\"\n",
    "ed_23_df[\"arch_name\"] = \"encoder-decoder\"\n",
    "print(len(set(ed_23_df[\"Name\"])))\n",
    "Counter(ed_23_df[\"Name\"]).most_common(1)"
   ]
  },
  {
   "cell_type": "code",
   "execution_count": 11,
   "metadata": {},
   "outputs": [
    {
     "name": "stdout",
     "output_type": "stream",
     "text": [
      "26\n"
     ]
    },
    {
     "data": {
      "text/plain": [
       "[('dan.trn', 1),\n",
       " ('bel.trn', 1),\n",
       " ('afb.trn', 1),\n",
       " ('arz.trn', 1),\n",
       " ('tur.trn', 1),\n",
       " ('sqi.trn', 1),\n",
       " ('swa.trn', 1)]"
      ]
     },
     "execution_count": 11,
     "metadata": {},
     "output_type": "execute_result"
    }
   ],
   "source": [
    "d84_23_df = pd.read_csv(\"data/2023-decoder-only-8layers-4heads.csv\")\n",
    "d84_23_df[\"params\"] = \"6.3M\"\n",
    "d84_23_df[\"encoder_layers\"] = 0\n",
    "d84_23_df[\"arch_name\"] = \"decoder-only-8layer-4head\"\n",
    "print(len(set(d84_23_df[\"Name\"])))\n",
    "Counter(d84_23_df[\"Name\"]).most_common(7)"
   ]
  },
  {
   "cell_type": "code",
   "execution_count": 12,
   "metadata": {},
   "outputs": [
    {
     "data": {
      "text/html": [
       "<div>\n",
       "<style scoped>\n",
       "    .dataframe tbody tr th:only-of-type {\n",
       "        vertical-align: middle;\n",
       "    }\n",
       "\n",
       "    .dataframe tbody tr th {\n",
       "        vertical-align: top;\n",
       "    }\n",
       "\n",
       "    .dataframe thead th {\n",
       "        text-align: right;\n",
       "    }\n",
       "</style>\n",
       "<table border=\"1\" class=\"dataframe\">\n",
       "  <thead>\n",
       "    <tr style=\"text-align: right;\">\n",
       "      <th></th>\n",
       "      <th></th>\n",
       "      <th>val_accuracy.max</th>\n",
       "      <th>source_attention_heads</th>\n",
       "      <th>decoder_layers</th>\n",
       "      <th>encoder_layers</th>\n",
       "    </tr>\n",
       "    <tr>\n",
       "      <th>arch_name</th>\n",
       "      <th>params</th>\n",
       "      <th></th>\n",
       "      <th></th>\n",
       "      <th></th>\n",
       "      <th></th>\n",
       "    </tr>\n",
       "  </thead>\n",
       "  <tbody>\n",
       "    <tr>\n",
       "      <th>decoder-only-8layer-4head</th>\n",
       "      <th>6.3M</th>\n",
       "      <td>0.323308</td>\n",
       "      <td>4.0</td>\n",
       "      <td>8.0</td>\n",
       "      <td>0.0</td>\n",
       "    </tr>\n",
       "    <tr>\n",
       "      <th>encoder-decoder</th>\n",
       "      <th>7.4M</th>\n",
       "      <td>0.846259</td>\n",
       "      <td>4.0</td>\n",
       "      <td>4.0</td>\n",
       "      <td>4.0</td>\n",
       "    </tr>\n",
       "  </tbody>\n",
       "</table>\n",
       "</div>"
      ],
      "text/plain": [
       "                                  val_accuracy.max  source_attention_heads  \\\n",
       "arch_name                 params                                             \n",
       "decoder-only-8layer-4head 6.3M            0.323308                     4.0   \n",
       "encoder-decoder           7.4M            0.846259                     4.0   \n",
       "\n",
       "                                  decoder_layers  encoder_layers  \n",
       "arch_name                 params                                  \n",
       "decoder-only-8layer-4head 6.3M               8.0             0.0  \n",
       "encoder-decoder           7.4M               4.0             4.0  "
      ]
     },
     "execution_count": 12,
     "metadata": {},
     "output_type": "execute_result"
    }
   ],
   "source": [
    "all_2023_df = pd.concat([ed_23_df, d84_23_df])\n",
    "\n",
    "all_2023_df.groupby([\"arch_name\", \"params\"]).mean()[[\n",
    "    \"val_accuracy.max\",\n",
    "    \"source_attention_heads\",\n",
    "    \"decoder_layers\",\n",
    "    \"encoder_layers\",\n",
    "]].sort_values(\"val_accuracy.max\")"
   ]
  },
  {
   "cell_type": "code",
   "execution_count": 16,
   "metadata": {},
   "outputs": [
    {
     "data": {
      "text/html": [
       "<div>\n",
       "<style scoped>\n",
       "    .dataframe tbody tr th:only-of-type {\n",
       "        vertical-align: middle;\n",
       "    }\n",
       "\n",
       "    .dataframe tbody tr th {\n",
       "        vertical-align: top;\n",
       "    }\n",
       "\n",
       "    .dataframe thead th {\n",
       "        text-align: right;\n",
       "    }\n",
       "</style>\n",
       "<table border=\"1\" class=\"dataframe\">\n",
       "  <thead>\n",
       "    <tr style=\"text-align: right;\">\n",
       "      <th></th>\n",
       "      <th>Name</th>\n",
       "      <th>epoch</th>\n",
       "      <th>val_accuracy.max</th>\n",
       "      <th>State</th>\n",
       "      <th>Created</th>\n",
       "      <th>Runtime</th>\n",
       "      <th>Sweep</th>\n",
       "      <th>arch</th>\n",
       "      <th>beam_width</th>\n",
       "      <th>beta1</th>\n",
       "      <th>...</th>\n",
       "      <th>source_vocab_size</th>\n",
       "      <th>start_idx</th>\n",
       "      <th>target_vocab_size</th>\n",
       "      <th>teacher_forcing</th>\n",
       "      <th>lr-Adam</th>\n",
       "      <th>train_loss</th>\n",
       "      <th>trainer/global_step</th>\n",
       "      <th>val_loss</th>\n",
       "      <th>params</th>\n",
       "      <th>arch_name</th>\n",
       "    </tr>\n",
       "  </thead>\n",
       "  <tbody>\n",
       "    <tr>\n",
       "      <th>35</th>\n",
       "      <td>german</td>\n",
       "      <td>799</td>\n",
       "      <td>0.912</td>\n",
       "      <td>finished</td>\n",
       "      <td>2023-12-15T02:33:20.000Z</td>\n",
       "      <td>5585</td>\n",
       "      <td>NaN</td>\n",
       "      <td>decoder_only_transformer</td>\n",
       "      <td>1</td>\n",
       "      <td>0.9</td>\n",
       "      <td>...</td>\n",
       "      <td>91</td>\n",
       "      <td>2</td>\n",
       "      <td>71</td>\n",
       "      <td>True</td>\n",
       "      <td>0.000447</td>\n",
       "      <td>0.756447</td>\n",
       "      <td>19999</td>\n",
       "      <td>0.911133</td>\n",
       "      <td>6.3M</td>\n",
       "      <td>decoder-only-8layer-4head</td>\n",
       "    </tr>\n",
       "  </tbody>\n",
       "</table>\n",
       "<p>1 rows × 49 columns</p>\n",
       "</div>"
      ],
      "text/plain": [
       "      Name  epoch  val_accuracy.max     State                   Created  \\\n",
       "35  german    799             0.912  finished  2023-12-15T02:33:20.000Z   \n",
       "\n",
       "    Runtime  Sweep                      arch  beam_width  beta1  ...  \\\n",
       "35     5585    NaN  decoder_only_transformer           1    0.9  ...   \n",
       "\n",
       "    source_vocab_size  start_idx  target_vocab_size  teacher_forcing  \\\n",
       "35                 91          2                 71             True   \n",
       "\n",
       "     lr-Adam  train_loss  trainer/global_step  val_loss  params  \\\n",
       "35  0.000447    0.756447                19999  0.911133    6.3M   \n",
       "\n",
       "                    arch_name  \n",
       "35  decoder-only-8layer-4head  \n",
       "\n",
       "[1 rows x 49 columns]"
      ]
     },
     "execution_count": 16,
     "metadata": {},
     "output_type": "execute_result"
    }
   ],
   "source": [
    "d84_df.loc[d84_df[\"Name\"] == \"german\"]"
   ]
  },
  {
   "cell_type": "code",
   "execution_count": null,
   "metadata": {},
   "outputs": [],
   "source": []
  }
 ],
 "metadata": {
  "kernelspec": {
   "display_name": "nlp",
   "language": "python",
   "name": "nlp"
  },
  "language_info": {
   "codemirror_mode": {
    "name": "ipython",
    "version": 3
   },
   "file_extension": ".py",
   "mimetype": "text/x-python",
   "name": "python",
   "nbconvert_exporter": "python",
   "pygments_lexer": "ipython3",
   "version": "3.9.1"
  }
 },
 "nbformat": 4,
 "nbformat_minor": 4
}
